{
 "cells": [
  {
   "cell_type": "code",
   "execution_count": 23,
   "id": "0312240b",
   "metadata": {},
   "outputs": [
    {
     "name": "stdout",
     "output_type": "stream",
     "text": [
      "Hello\n"
     ]
    }
   ],
   "source": [
    "print(\"Hello\")"
   ]
  },
  {
   "cell_type": "code",
   "execution_count": 24,
   "id": "b62132a4",
   "metadata": {},
   "outputs": [],
   "source": [
    "## tools\n",
    "from langchain_community.tools import ArxivQueryRun, WikipediaQueryRun\n",
    "from langchain_community.utilities import ArxivAPIWrapper, WikipediaAPIWrapper"
   ]
  },
  {
   "cell_type": "code",
   "execution_count": 25,
   "id": "b1916437",
   "metadata": {},
   "outputs": [
    {
     "name": "stdout",
     "output_type": "stream",
     "text": [
      "arxiv\n"
     ]
    }
   ],
   "source": [
    "api_wrapper_arxiv = ArxivAPIWrapper(top_k_results=2, doc_content_chars_max=500)\n",
    "arxiv = ArxivQueryRun(api_wrapper=api_wrapper_arxiv, description=\"Query arxiv papers\")\n",
    "print(arxiv.name)"
   ]
  },
  {
   "cell_type": "code",
   "execution_count": 26,
   "id": "4c3a33c2",
   "metadata": {},
   "outputs": [
    {
     "data": {
      "text/plain": [
       "'Published: 2023-05-23\\nTitle: Fast and energy-efficient non-volatile III-V-on-silicon photonic phase shifter based on memristors\\nAuthors: Zhuoran Fang, Bassem Tossoun, Antoine Descos, Di Liang, Xue Huang, Geza Kurczveil, Arka Majumdar, Raymond G. Beausoleil\\nSummary: Silicon photonics has evolved from lab research to commercial products in the\\npast decade as it plays an increasingly crucial role in data communication for\\nnext-generation data centers and high performance computing1. Recently,\\nprogr'"
      ]
     },
     "execution_count": 26,
     "metadata": {},
     "output_type": "execute_result"
    }
   ],
   "source": [
    "arxiv.invoke(\"What is the latest research on quantum computing?\")"
   ]
  },
  {
   "cell_type": "code",
   "execution_count": 27,
   "id": "8b06f5c9",
   "metadata": {},
   "outputs": [
    {
     "name": "stdout",
     "output_type": "stream",
     "text": [
      "wikipedia\n"
     ]
    }
   ],
   "source": [
    "api_wrapper_wiki = WikipediaAPIWrapper(top_k_results=1, doc_content_chars_max=500)\n",
    "wiki = WikipediaQueryRun(api_wrapper=api_wrapper_wiki, description=\"Query Wikipedia\")\n",
    "print(wiki.name)"
   ]
  },
  {
   "cell_type": "code",
   "execution_count": 28,
   "id": "a071fdee",
   "metadata": {},
   "outputs": [],
   "source": [
    "from dotenv import load_dotenv\n",
    "load_dotenv()\n",
    "\n",
    "import os\n",
    "\n",
    "os.environ[\"TAVILY_API_KEY\"]=os.getenv(\"TAVILY_API_KEY\")\n",
    "os.environ[\"GROQ_API_KEY\"]=os.getenv(\"GROQ_API_KEY\")"
   ]
  },
  {
   "cell_type": "code",
   "execution_count": 29,
   "id": "8791320f",
   "metadata": {},
   "outputs": [],
   "source": [
    "## Tavily Search Tool\n",
    "from langchain_community.tools.tavily_search import TavilySearchResults\n",
    "\n",
    "tavily = TavilySearchResults()"
   ]
  },
  {
   "cell_type": "code",
   "execution_count": 30,
   "id": "dd1df311",
   "metadata": {},
   "outputs": [
    {
     "data": {
      "text/plain": [
       "[{'title': 'Artificial Intelligence News - ScienceDaily',\n",
       "  'url': 'https://www.sciencedaily.com/news/computers_math/artificial_intelligence/',\n",
       "  'content': '### Wednesday, April 9, 2025\\n\\n### Tuesday, April 8, 2025\\n\\n### Thursday, April 3, 2025\\n\\n### Thursday, March 27, 2025\\n\\n### Wednesday, March 26, 2025\\n\\n### Tuesday, March 25, 2025\\n\\n### Wednesday, March 19, 2025\\n\\n### Tuesday, March 18, 2025\\n\\n### Monday, March 17, 2025\\n\\n### Thursday, March 6, 2025\\n\\n### Wednesday, March 5, 2025\\n\\n### Tuesday, March 4, 2025\\n\\n### Wednesday, February 26, 2025\\n\\n### Tuesday, February 25, 2025\\n\\n### Friday, February 21, 2025\\n\\n### Thursday, February 20, 2025 [...] ![ScienceDaily](/images/sd-logo.png)\\n\\n# Artificial Intelligence News\\n\\n## Top Headlines\\n\\n## Latest Headlines\\n\\n## Earlier Headlines\\n\\n### Tuesday, May 13, 2025\\n\\n### Monday, May 12, 2025\\n\\n### Thursday, May 8, 2025\\n\\n### Wednesday, May 7, 2025\\n\\n### Tuesday, May 6, 2025\\n\\n### Monday, May 5, 2025\\n\\n### Thursday, May 1, 2025\\n\\n### Friday, April 25, 2025\\n\\n### Thursday, April 24, 2025\\n\\n### Wednesday, April 23, 2025\\n\\n### Tuesday, April 22, 2025\\n\\n### Tuesday, April 15, 2025\\n\\n### Monday, April 14, 2025 [...] ### Wednesday, February 19, 2025\\n\\n### Thursday, February 13, 2025\\n\\n### Monday, February 10, 2025\\n\\n### Monday, February 3, 2025\\n\\n### Wednesday, January 29, 2025\\n\\n### Tuesday, January 28, 2025\\n\\n### Monday, January 27, 2025\\n\\n### Tuesday, January 21, 2025\\n\\n### Thursday, January 16, 2025\\n\\n### Wednesday, January 15, 2025\\n\\n### Tuesday, January 14, 2025\\n\\n### Thursday, January 9, 2025\\n\\n### Wednesday, January 8, 2025\\n\\n### Monday, January 6, 2025\\n\\n### Thursday, January 2, 2025',\n",
       "  'score': 0.7251239},\n",
       " {'title': 'AI News & Artificial Intelligence - TechCrunch',\n",
       "  'url': 'https://techcrunch.com/category/artificial-intelligence/',\n",
       "  'content': '### [Reddit sues Anthropic for allegedly not paying for training data](https://techcrunch.com/2025/06/04/reddit-sues-anthropic-for-allegedly-not-paying-for-training-data/)\\n\\n![](https://techcrunch.com/wp-content/uploads/2025/06/GettyImages-2218592205.jpg?w=563)\\n\\n### [Klarna CEO says company will use humans to offer VIP customer service](https://techcrunch.com/2025/06/04/klarna-ceo-says-company-will-use-humans-to-offer-vip-customer-service/) [...] ![](https://techcrunch.com/wp-content/uploads/2025/06/IMG_1221.jpeg?w=396)\\n\\n### [One of Africa’s most successful founders is back with a new AI startup and already raised $9M](https://techcrunch.com/2025/06/03/one-of-africas-most-successful-founders-is-back-with-a-new-ai-startup-and-already-raised-9m/)\\n\\n![Man looking at big data represented by binary code and data symbols like graphs.](https://techcrunch.com/wp-content/uploads/2023/09/GettyImages-1206978865.jpg?w=668) [...] ![Yoshua Bengio](https://techcrunch.com/wp-content/uploads/2025/06/GettyImages-1257744025.jpg?w=566)\\n\\n### [Yoshua Bengio launches LawZero, a nonprofit AI safety lab](https://techcrunch.com/2025/06/03/yoshua-bengio-launches-lawzero-a-nonprofit-ai-safety-lab/)\\n\\n![DeepSeek logo](https://techcrunch.com/wp-content/uploads/2025/01/GettyImages-2196333417_75e106.jpg?w=499)',\n",
       "  'score': 0.65146625},\n",
       " {'title': 'AI News | Latest AI News, Analysis & Events',\n",
       "  'url': 'https://www.artificialintelligence-news.com/',\n",
       "  'content': 'AI News reports on the latest artificial intelligence news and insights. Explore industry trends from the frontline of AI.',\n",
       "  'score': 0.650934},\n",
       " {'title': 'Artificial intelligence - NBC News',\n",
       "  'url': 'https://www.nbcnews.com/artificial-intelligence',\n",
       "  'content': \"The latest news and top stories on artificial intelligence, including AI chatbots like Microsoft's ChatGPT, Apple's AI Chatbot and Google's Bard.\",\n",
       "  'score': 0.6208291},\n",
       " {'title': 'Artificial Intelligence | Latest News, Photos & Videos - WIRED',\n",
       "  'url': 'https://www.wired.com/tag/artificial-intelligence/',\n",
       "  'content': '### AI Is Eating Data Center Power Demand—and It’s Only Getting Worse\\n\\n![A United Arab Emirates Lab Announces Frontier AI Projects&-and a New Outpost in Silicon Valley](https://media.wired.com/photos/682e1f6c45df96b7a5ca3034/3:2/w_1280%2Cc_limit/UAE-AI-Lab-Silicon-Valley-Business-2199829795.jpg)\\n\\n### A United Arab Emirates Lab Announces Frontier AI Projects—and a New Outpost in Silicon Valley [...] ### Kentucky’s Bitcoin Boom Has Gone Bust\\n\\n![Fire Breaks Out at a Data Center Leased by Elon Musk’s X](https://media.wired.com/photos/682fa6f9f5e3f7a3d320a940/3:2/w_1280%2Cc_limit/X-Data-Center-Fire-Business-1782225491.jpg)\\n\\n### Fire Breaks Out at a Data Center Leased by Elon Musk’s X\\n\\n![AI Is Eating Data Center Power Demand&-and It’s Only Getting Worse](https://media.wired.com/photos/682de990e697c0df119ce1f1/3:2/w_1280%2Cc_limit/GettyImages-2161394212.jpg) [...] ### Deepfake Scams Are Distorting Reality Itself\\n\\n![The Rise of ‘Vibe Hacking’ Is the Next AI Nightmare](https://media.wired.com/photos/683dde00bb81c8212495c31b/3:2/w_1280%2Cc_limit/WIRED%2520STILL%252002.png)\\n\\n### The Rise of ‘Vibe Hacking’ Is the Next AI Nightmare\\n\\n![How to Make AI Faster and Smarter&-With a Little Help From Physics](https://media.wired.com/photos/682dbf2a520f1c62c099718e/3:2/w_1280%2Cc_limit/RoseYu-cr.PeggyPeattie-Lede-scaled.jpeg)',\n",
       "  'score': 0.59372765}]"
      ]
     },
     "execution_count": 30,
     "metadata": {},
     "output_type": "execute_result"
    }
   ],
   "source": [
    "tavily.invoke(\"Provide me the recent AI news?\")"
   ]
  },
  {
   "cell_type": "code",
   "execution_count": 31,
   "id": "10835844",
   "metadata": {},
   "outputs": [],
   "source": [
    "## con]mbine all these tools in the list\n",
    "tools = [arxiv, wiki, tavily]"
   ]
  },
  {
   "cell_type": "code",
   "execution_count": 32,
   "id": "350240b0",
   "metadata": {},
   "outputs": [],
   "source": [
    "## Initialize the LLM Model\n",
    "from langchain_groq import ChatGroq\n",
    "\n",
    "llm = ChatGroq(model=\"qwen-qwq-32b\")"
   ]
  },
  {
   "cell_type": "code",
   "execution_count": 33,
   "id": "9a83f123",
   "metadata": {},
   "outputs": [
    {
     "data": {
      "text/plain": [
       "AIMessage(content='\\n<think>\\nOkay, so I need to explain what AI is. Let me start by recalling what I know. AI stands for Artificial Intelligence, right? But what exactly does that mean? I think it refers to machines or systems that can perform tasks that usually require human intelligence. But I should make sure I get the basics right.\\n\\nFirst, maybe I should define AI in simple terms. It\\'s like making machines smart, so they can do things like learn, problem-solve, recognize speech, or make decisions. But maybe I should break it down more. There\\'s general AI and narrow AI. Wait, the user asked for a general explanation, so maybe I should cover both?\\n\\nI remember that AI can be categorized into different types. There\\'s weak AI and strong AI. Weak AI is when the system is designed for a specific task, like voice assistants like Siri or Alexa. They can understand voice commands but aren\\'t conscious. Strong AI would be systems that can handle any intellectual task a human can, but I think that\\'s more theoretical because we haven\\'t achieved that yet.\\n\\nAlso, there\\'s machine learning, which is a subset of AI. Machine learning involves algorithms that learn from data, so they can improve over time without being explicitly programmed. Then there\\'s deep learning, which uses neural networks to model patterns in data. Maybe I should mention those as part of AI.\\n\\nApplications of AI are important too. Like in healthcare for diagnostics, in self-driving cars, recommendation systems on Netflix or YouTube, chatbots, etc. These examples can help illustrate the concept.\\n\\nI should also touch on how AI works. It\\'s not just about programming; it\\'s about algorithms that process data, learn patterns, and make decisions. Maybe use an example, like how a facial recognition system uses AI to identify faces by analyzing features from images.\\n\\nWait, but I need to explain it in a way that\\'s understandable without too much jargon. Let me structure it step by step. Start with a basic definition, then types (narrow vs. general), then how it works (machine learning, neural networks), applications, and maybe a note on current state and future potential.\\n\\nAlso, maybe address common misconceptions. For instance, AI isn\\'t just about robots; it includes software too. And it\\'s not sentient yet, at least not in the current state.\\n\\nHmm, I should also mention ethical considerations or challenges, like bias in AI systems or job displacement, but maybe that\\'s beyond the scope of a basic explanation. The user just asked \"what is AI,\" so focus on the fundamentals first.\\n\\nWait, the user might be looking for a concise, clear explanation. Let me outline:\\n\\n1. Definition of AI: machines or software that perform tasks requiring human intelligence.\\n2. Types: Narrow (specific tasks) vs. General AI (human-like intelligence).\\n3. Key techniques: Machine learning, deep learning, neural networks.\\n4. Applications in various fields.\\n5. How it works: Learning from data, recognizing patterns, making decisions.\\n6. Current state: Mostly narrow AI exists today.\\n\\nI should also mention that AI involves fields like computer science, mathematics, and data processing. Maybe a brief history? Like Turing\\'s test, early attempts, recent advancements with big data and better algorithms.\\n\\nWait, the user might not need the history, but a mention of key components could help. Also, distinguish AI from robotics? Because AI can be in software without physical form.\\n\\nOkay, putting it all together in a coherent way without getting too technical. Make sure each part flows logically. Start with the definition, break into types, explain the methods, give examples, and touch on where it\\'s used now. Maybe end with a note on the future or limitations to give a full picture.\\n\\nCheck if I\\'m missing anything. Oh, maybe the difference between AI, machine learning, and deep learning. Since they\\'re related but distinct. Clarify that machine learning is a subset of AI, and deep learning is a subset of ML.\\n\\nAlso, maybe mention that AI systems can adapt and improve with experience, which is key. They learn from data rather than being programmed for every possible scenario.\\n\\nI think that\\'s a solid structure. Now, let me put this into a clear, concise explanation without fluff.\\n</think>\\n\\n**Artificial Intelligence (AI)** refers to the simulation of human intelligence in machines that are programmed to perform tasks requiring human-like cognitive abilities such as learning, problem-solving, decision-making, and perception. Here\\'s a structured breakdown:\\n\\n### 1. **Types of AI**:\\n   - **Narrow (Weak) AI**: Systems designed for **specific tasks**, such as voice assistants (e.g., Siri, Alexa), recommendation algorithms (e.g., Netflix), or image recognition tools. These are highly specialized but lack generalized intelligence.\\n   - **General (Strong) AI**: A theoretical form of AI that can perform **any intellectual task a human can**, with self-awareness and reasoning. This is still a topic of research and does not yet exist.\\n\\n### 2. **Key Techniques**:\\n   - **Machine Learning (ML)**: A subset of AI where systems learn patterns from **data** to improve performance on a task without explicit programming. Examples include spam filters and predictive analytics.\\n   - **Deep Learning**: A specialized ML technique using **neural networks** (inspired by the human brain) to process complex data, such as image or speech recognition.\\n   - **Natural Language Processing (NLP)**: Enables machines to understand and generate human language, used in chatbots and language translation tools.\\n\\n### 3. **How It Works**:\\n   - **Data-Driven**: AI systems rely on large datasets to learn and identify patterns.\\n   - **Adaptation**: They refine their outputs through experience and feedback, improving over time.\\n   - **Decision-Making**: Algorithms process inputs (e.g., images, text, or sensor data) to generate outputs (e.g., decisions, predictions, or actions).\\n\\n### 4. **Applications**:\\n   - **Healthcare**: Diagnosing diseases via medical imaging analysis.\\n   - **Transportation**: Self-driving cars (e.g., Tesla’s Autopilot) using sensors and AI for navigation.\\n   - **Business**: Fraud detection, customer service chatbots, and personalized marketing.\\n   - **Entertainment**: Content recommendations on platforms like YouTube or Spotify.\\n\\n### 5. **Current State**:\\n   - Most AI today is **narrow**, excelling in specific domains but lacking broader understanding or consciousness.\\n   - Advancements depend on **big data**, computational power, and improved algorithms (like transformers in NLP).\\n\\n### 6. **Important Notes**:\\n   - **Not Sentient**: Current AI systems are tools; they don’t have consciousness or emotions.\\n   - **Ethical Considerations**: Challenges include bias in training data, privacy concerns, and job displacement due to automation.\\n\\n### 7. **Future Potential**:\\n   - Development of **general AI** remains a long-term goal, but progress in fields like robotics and neural networks continues to push boundaries.\\n\\nIn essence, AI mimics human intelligence to solve problems, analyze data, and automate tasks, revolutionizing industries while raising ethical and societal questions about its use.', additional_kwargs={}, response_metadata={'token_usage': {'completion_tokens': 1474, 'prompt_tokens': 13, 'total_tokens': 1487, 'completion_time': 3.663478208, 'prompt_time': 0.00288134, 'queue_time': 0.24548835, 'total_time': 3.666359548}, 'model_name': 'qwen-qwq-32b', 'system_fingerprint': 'fp_512a3da6bb', 'finish_reason': 'stop', 'logprobs': None}, id='run--c30703bd-a7df-4ae7-a14a-c0799a966e7d-0', usage_metadata={'input_tokens': 13, 'output_tokens': 1474, 'total_tokens': 1487})"
      ]
     },
     "execution_count": 33,
     "metadata": {},
     "output_type": "execute_result"
    }
   ],
   "source": [
    "llm.invoke(\"What is AI\")"
   ]
  },
  {
   "cell_type": "code",
   "execution_count": 34,
   "id": "54c4fd30",
   "metadata": {},
   "outputs": [],
   "source": [
    "llm_with_tools = llm.bind_tools(tools=tools)"
   ]
  },
  {
   "cell_type": "code",
   "execution_count": 35,
   "id": "3aa4c77a",
   "metadata": {},
   "outputs": [
    {
     "data": {
      "text/plain": [
       "AIMessage(content='', additional_kwargs={'tool_calls': [{'id': 'call_fw75', 'function': {'arguments': '{\"query\":\"latest news on quantum computing\"}', 'name': 'tavily_search_results_json'}, 'type': 'function'}]}, response_metadata={'token_usage': {'completion_tokens': 231, 'prompt_tokens': 323, 'total_tokens': 554, 'completion_time': 0.56382683, 'prompt_time': 0.054940232, 'queue_time': 0.246791138, 'total_time': 0.618767062}, 'model_name': 'qwen-qwq-32b', 'system_fingerprint': 'fp_512a3da6bb', 'finish_reason': 'tool_calls', 'logprobs': None}, id='run--bdf5c870-2e00-4d07-b05f-22911cea21ec-0', tool_calls=[{'name': 'tavily_search_results_json', 'args': {'query': 'latest news on quantum computing'}, 'id': 'call_fw75', 'type': 'tool_call'}], usage_metadata={'input_tokens': 323, 'output_tokens': 231, 'total_tokens': 554})"
      ]
     },
     "execution_count": 35,
     "metadata": {},
     "output_type": "execute_result"
    }
   ],
   "source": [
    "## Execute this call\n",
    "llm_with_tools.invoke(\"What is the latest news on quantum computing?\")"
   ]
  },
  {
   "cell_type": "code",
   "execution_count": 36,
   "id": "b547cc0e",
   "metadata": {},
   "outputs": [
    {
     "data": {
      "text/plain": [
       "AIMessage(content='', additional_kwargs={'tool_calls': [{'id': 'call_nfht', 'function': {'arguments': '{\"query\":\"Machine learning\"}', 'name': 'wikipedia'}, 'type': 'function'}]}, response_metadata={'token_usage': {'completion_tokens': 209, 'prompt_tokens': 319, 'total_tokens': 528, 'completion_time': 0.509670121, 'prompt_time': 0.033898216, 'queue_time': 0.427327354, 'total_time': 0.543568337}, 'model_name': 'qwen-qwq-32b', 'system_fingerprint': 'fp_512a3da6bb', 'finish_reason': 'tool_calls', 'logprobs': None}, id='run--19487938-e263-4770-a363-219aedaf75fd-0', tool_calls=[{'name': 'wikipedia', 'args': {'query': 'Machine learning'}, 'id': 'call_nfht', 'type': 'tool_call'}], usage_metadata={'input_tokens': 319, 'output_tokens': 209, 'total_tokens': 528})"
      ]
     },
     "execution_count": 36,
     "metadata": {},
     "output_type": "execute_result"
    }
   ],
   "source": [
    "llm_with_tools.invoke(\"What is machine learning?\")"
   ]
  },
  {
   "cell_type": "markdown",
   "id": "d72a1631",
   "metadata": {},
   "source": [
    "# Workflow"
   ]
  },
  {
   "cell_type": "code",
   "execution_count": 37,
   "id": "545c6c81",
   "metadata": {},
   "outputs": [],
   "source": [
    "## State Schema\n",
    "from typing_extensions import TypedDict\n",
    "from langchain_core.messages import AnyMessage\n",
    "from typing import Annotated\n",
    "from langgraph.graph.message import add_messages"
   ]
  },
  {
   "cell_type": "code",
   "execution_count": 38,
   "id": "c899cfca",
   "metadata": {},
   "outputs": [],
   "source": [
    "class State(TypedDict):\n",
    "    messages: Annotated[list[AnyMessage], add_messages]"
   ]
  },
  {
   "cell_type": "code",
   "execution_count": 39,
   "id": "992dbe1a",
   "metadata": {},
   "outputs": [],
   "source": [
    "## Entire Chatbot with LangGraph\n",
    "from IPython.display import Image, display\n",
    "from langgraph.graph import StateGraph, START, END\n",
    "from langgraph.prebuilt import ToolNode, tools_condition"
   ]
  },
  {
   "cell_type": "code",
   "execution_count": 47,
   "id": "27226f42",
   "metadata": {},
   "outputs": [
    {
     "data": {
      "image/png": "[encoded data removed]",
      "text/plain": [
       "<IPython.core.display.Image object>"
      ]
     },
     "metadata": {},
     "output_type": "display_data"
    }
   ],
   "source": [
    "## Node definition\n",
    "def tool_calling_llm(state:State):\n",
    "    return {\"message\":[llm_with_tools.invoke(state[\"messages\"])]}\n",
    "\n",
    "# Build the graph\n",
    "builder = StateGraph(State)\n",
    "builder.add_node(\"tool_calling_llm\", tool_calling_llm)\n",
    "builder.add_node(\"tools\", ToolNode(tools))\n",
    "\n",
    "# Edges\n",
    "builder.add_edge(START, \"tool_calling_llm\")\n",
    "builder.add_conditional_edges(\n",
    "    \"tool_calling_llm\",\n",
    "    tools_condition,\n",
    ")\n",
    "builder.add_edge(\"tools\", END)\n",
    "\n",
    "graph = builder.compile()\n",
    "\n",
    "#View\n",
    "display(Image(graph.get_graph().draw_mermaid_png()))"
   ]
  },
  {
   "cell_type": "code",
   "execution_count": 50,
   "id": "d0026ac4",
   "metadata": {},
   "outputs": [
    {
     "name": "stdout",
     "output_type": "stream",
     "text": [
      "================================\u001b[1m Human Message \u001b[0m=================================\n",
      "\n",
      "1706.03762\n",
      "==================================\u001b[1m Ai Message \u001b[0m==================================\n",
      "Tool Calls:\n",
      "  arxiv (call_11qk)\n",
      " Call ID: call_11qk\n",
      "  Args:\n",
      "    query: 1706.03762\n",
      "=================================\u001b[1m Tool Message \u001b[0m=================================\n",
      "Name: arxiv\n",
      "\n",
      "Published: 2023-08-02\n",
      "Title: Attention Is All You Need\n",
      "Authors: Ashish Vaswani, Noam Shazeer, Niki Parmar, Jakob Uszkoreit, Llion Jones, Aidan N. Gomez, Lukasz Kaiser, Illia Polosukhin\n",
      "Summary: The dominant sequence transduction models are based on complex recurrent or\n",
      "convolutional neural networks in an encoder-decoder configuration. The best\n",
      "performing models also connect the encoder and decoder through an attention\n",
      "mechanism. We propose a new simple network architecture, the Transformer, base\n",
      "==================================\u001b[1m Ai Message \u001b[0m==================================\n",
      "\n",
      "The paper **\"Attention Is All You Need\"** (arXiv:1706.03762) introduced the **Transformer architecture**, which revolutionized sequence transduction tasks like machine translation. Here are its key contributions:\n",
      "\n",
      "1. **Abandonment of Recurrence**: It eliminated recurrent neural networks (RNNs) and convolutional neural networks (CNNs), relying entirely on **self-attention mechanisms** for processing sequential data.\n",
      "\n",
      "2. **Scaled Dot-Product Attention**: Proposed a novel attention mechanism that efficiently computes relationships between all elements in a sequence, enabling the model to weigh the relevance of different parts of the input.\n",
      "\n",
      "3. **Multi-Head Attention**: Allowed the model to jointly attend to information from different representation subspaces, capturing various dependencies in the data.\n",
      "\n",
      "4. **Positional Encoding**: Introduced a method to inject positional information into the input embeddings since the self-attention mechanism lacks inherent sequential order.\n",
      "\n",
      "5. **Self-Attention Only**: Demonstrated that a purely attention-based architecture (without RNNs/CNNs) achieves superior performance and parallelization, drastically speeding up training and inference.\n",
      "\n",
      "### Impact:\n",
      "- **Foundation of Modern Models**: Laid the groundwork for subsequent breakthroughs like BERT, GPT, and other Transformer variants.\n",
      "- **State-of-the-Art Performance**: Outperformed previous models on tasks like machine translation while reducing training time.\n",
      "- **Decoupling of Computation and Sequence Order**: Enabled more efficient parallel processing of sequences.\n",
      "\n",
      "This paper is widely regarded as a landmark in NLP and deep learning, shifting the field toward attention-based models.\n"
     ]
    }
   ],
   "source": [
    "messages = graph.invoke({\"messages\":\"1706.03762\"})\n",
    "for m in messages[\"messages\"]:\n",
    "    m.pretty_print()"
   ]
  },
  {
   "cell_type": "code",
   "execution_count": 45,
   "id": "5b4467fc",
   "metadata": {},
   "outputs": [
    {
     "name": "stdout",
     "output_type": "stream",
     "text": [
      "================================\u001b[1m Human Message \u001b[0m=================================\n",
      "\n",
      "Hi My name is Krish\n"
     ]
    }
   ],
   "source": [
    "messages=graph.invoke({\"messages\":\"Hi My name is Krish\"})\n",
    "for m in messages['messages']:\n",
    "    m.pretty_print()"
   ]
  },
  {
   "cell_type": "code",
   "execution_count": 48,
   "id": "c84863ac",
   "metadata": {},
   "outputs": [
    {
     "data": {
      "image/png": "[encoded data removed]",
      "text/plain": [
       "<IPython.core.display.Image object>"
      ]
     },
     "metadata": {},
     "output_type": "display_data"
    }
   ],
   "source": [
    "### Node definition\n",
    "def tool_calling_llm(state:State):\n",
    "    return {\"messages\":[llm_with_tools.invoke(state[\"messages\"])]}\n",
    "\n",
    "# Build graph\n",
    "builder = StateGraph(State)\n",
    "builder.add_node(\"tool_calling_llm\", tool_calling_llm)\n",
    "builder.add_node(\"tools\", ToolNode(tools))\n",
    "\n",
    "## Edgess\n",
    "builder.add_edge(START, \"tool_calling_llm\")\n",
    "builder.add_conditional_edges(\n",
    "    \"tool_calling_llm\",\n",
    "    # If the latest message (result) from assistant is a tool call -> tools_condition routes to tools\n",
    "    # If the latest message (result) from assistant is a not a tool call -> tools_condition routes to END\n",
    "    tools_condition,\n",
    ")\n",
    "builder.add_edge(\"tools\", \"tool_calling_llm\")\n",
    "\n",
    "graph = builder.compile()\n",
    "\n",
    "# View\n",
    "display(Image(graph.get_graph().draw_mermaid_png()))"
   ]
  },
  {
   "cell_type": "code",
   "execution_count": 49,
   "id": "fd645e76",
   "metadata": {},
   "outputs": [
    {
     "name": "stdout",
     "output_type": "stream",
     "text": [
      "================================\u001b[1m Human Message \u001b[0m=================================\n",
      "\n",
      "What is the recent AI news and then please tell me the recent research paper on quantum computing?\n",
      "==================================\u001b[1m Ai Message \u001b[0m==================================\n",
      "Tool Calls:\n",
      "  tavily_search_results_json (call_phxe)\n",
      " Call ID: call_phxe\n",
      "  Args:\n",
      "    query: recent AI news\n",
      "  arxiv (call_faj8)\n",
      " Call ID: call_faj8\n",
      "  Args:\n",
      "    query: recent quantum computing research\n",
      "=================================\u001b[1m Tool Message \u001b[0m=================================\n",
      "Name: tavily_search_results_json\n",
      "\n",
      "[{\"title\": \"Latest AI Breakthroughs and News: May-June 2025 - Crescendo.ai\", \"url\": \"https://www.crescendo.ai/news/latest-ai-news-and-updates\", \"content\": \"**Date:** June 1, 2025  \\n**Summary:** Ukraine reportedly used AI-enhanced drone swarms in a covert mission dubbed âOperation Spider Webâ to target a Russian bomber. The drones, said to cost as little as the price of an iPhone 16 Pro, represent a new phase of low-cost autonomous warfare. [...] **Date:** May 30, 2025  \\n**Summary:** Nvidia CEO Jensen Huang issued a bold warning about the rapid evolution of AI, emphasizing that people who fail to adopt AI in their workflow risk being replaced by those who do. His comments underline the urgency for upskilling in a transforming job market. [...] **Date:** May 31, 2025  \\n**Summary:** Monash University has announced a landmark investment in an AI supercomputer, becoming the first higher education institute in Australia to do so. The system will significantly accelerate national research across AI, medicine, and engineering fields.\", \"score\": 0.8763069}]\n",
      "=================================\u001b[1m Tool Message \u001b[0m=================================\n",
      "Name: arxiv\n",
      "\n",
      "Published: 2022-04-04\n",
      "Title: Evolution of Quantum Computing: A Systematic Survey on the Use of Quantum Computing Tools\n",
      "Authors: Paramita Basak Upama, Md Jobair Hossain Faruk, Mohammad Nazim, Mohammad Masum, Hossain Shahriar, Gias Uddin, Shabir Barzanjeh, Sheikh Iqbal Ahamed, Akond Rahman\n",
      "Summary: Quantum Computing (QC) refers to an emerging paradigm that inherits and\n",
      "builds with the concepts and phenomena of Quantum Mechanic (QM) with the\n",
      "significant potential to unlock a remarkable opportunity \n",
      "==================================\u001b[1m Ai Message \u001b[0m==================================\n",
      "\n",
      "Here’s the information based on the tool responses:\n",
      "\n",
      "### Recent AI News (from Tavaliy search results):\n",
      "1. **June 1, 2025**  \n",
      "   - Ukraine reportedly used **AI-enhanced drone swarms** in \"Operation Spider Web\" to target a Russian bomber. The drones were noted for their low cost (~price of an iPhone 16 Pro), marking a shift toward affordable autonomous warfare.\n",
      "\n",
      "2. **May 31, 2025**  \n",
      "   - **Monash University** became the first Australian higher education institution to invest in an **AI supercomputer**, aimed at accelerating research in AI, medicine, and engineering.\n",
      "\n",
      "3. **May 30, 2025**  \n",
      "   - **Nvidia CEO Jensen Huang** warned that failure to adopt AI could lead to obsolescence in the workforce, stressing the urgency of upskilling in the AI-driven job market.\n",
      "\n",
      "---\n",
      "\n",
      "### Recent Quantum Computing Research (from Arxiv):\n",
      "The tool returned a paper titled:  \n",
      "**\"Evolution of Quantum Computing: A Systematic Survey on the Use of Quantum Computing Tools\"**  \n",
      "- **Authors**: Paramita Basak Upama et al.  \n",
      "- **Published**: 2022-04-04  \n",
      "- **Summary**: Focuses on quantum computing tools and their applications, leveraging quantum mechanics principles.  \n",
      "\n",
      "⚠️ Note: This paper is from **2022**, which may not reflect the most recent advancements. For newer research, you might need to check Arxiv again or specify a date range in your query.\n",
      "\n",
      "Let me know if you’d like further clarification!\n"
     ]
    }
   ],
   "source": [
    "messages=graph.invoke({\"messages\":\"What is the recent AI news and then please tell me the recent research paper on quantum computing?\"})\n",
    "for m in messages['messages']:\n",
    "    m.pretty_print()"
   ]
  }
 ],
 "metadata": {
  "kernelspec": {
   "display_name": ".venv",
   "language": "python",
   "name": "python3"
  },
  "language_info": {
   "codemirror_mode": {
    "name": "ipython",
    "version": 3
   },
   "file_extension": ".py",
   "mimetype": "text/x-python",
   "name": "python",
   "nbconvert_exporter": "python",
   "pygments_lexer": "ipython3",
   "version": "3.12.8"
  }
 },
 "nbformat": 4,
 "nbformat_minor": 5
}
